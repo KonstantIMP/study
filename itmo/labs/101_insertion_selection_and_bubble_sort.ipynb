{
 "cells": [
  {
   "cell_type": "markdown",
   "metadata": {},
   "source": [
    "## Сортировка вставками, выбором, пузырьком\n",
    "\n",
    "Формулировки заданий видоизменены, потому что мне не хотелось полностью их писать"
   ]
  },
  {
   "cell_type": "markdown",
   "metadata": {},
   "source": [
    "### Задание 1\n",
    "\n",
    "Написать функцию сортировки вставками"
   ]
  },
  {
   "cell_type": "code",
   "execution_count": 3,
   "metadata": {},
   "outputs": [],
   "source": [
    "def insertionSort(a):\n",
    "    for i in range(1, len(a)):\n",
    "        for j in range(i, 0, -1):\n",
    "            if a[j] < a[j - 1]:\n",
    "                a[j], a[j - 1] = a[j - 1], a[j]\n",
    "            else:\n",
    "                break\n",
    "\n",
    "    return a"
   ]
  },
  {
   "cell_type": "markdown",
   "metadata": {},
   "source": [
    "### Задание 2\n",
    "\n",
    "Напишите функцию сортировки вставками, а также составьте массив, описывающий перестановки во время сортировки, то есть\n",
    "\n",
    "```python\n",
    ">>> advancedIsertionSort([1, 8, 4, 2, 3, 7, 5, 6, 9, 0])\n",
    "    ([1, 2, 2, 2, 3, 5, 5, 6, 9, 1],\n",
    "     [0, 1, 2, 3, 4, 5, 6, 7, 8, 9])\n",
    "```"
   ]
  },
  {
   "cell_type": "code",
   "execution_count": 1,
   "metadata": {},
   "outputs": [],
   "source": [
    "def advancedIsertionSort(a):\n",
    "    counting = [1]\n",
    "\n",
    "    for i in range(1, len(a)):\n",
    "        counting.append(i + 1)\n",
    "        for j in range(i, 0, -1):\n",
    "            if a[j] < a[j - 1]:\n",
    "                a[j], a[j - 1] = a[j - 1], a[j]\n",
    "                counting[i] -= 1\n",
    "\n",
    "    return (a, counting)"
   ]
  },
  {
   "cell_type": "markdown",
   "metadata": {},
   "source": [
    "### Задание 3\n",
    "\n",
    "Реализуйте сортировку вставками по убыванию с использованием процедуры swap"
   ]
  },
  {
   "cell_type": "code",
   "execution_count": 3,
   "metadata": {},
   "outputs": [],
   "source": [
    "def swap(a, i, j):\n",
    "    a[i], a[j] = a[j], a[i]"
   ]
  },
  {
   "cell_type": "code",
   "execution_count": 6,
   "metadata": {},
   "outputs": [],
   "source": [
    "def reversedSwappedInsertionSort(a):\n",
    "    for i in range(1, len(a)):\n",
    "        for j in range(i, 0, -1):\n",
    "            if a[j] > a[j - 1]:\n",
    "                swap(a, j, j - 1)\n",
    "            else:\n",
    "                break\n",
    "    return a"
   ]
  },
  {
   "cell_type": "markdown",
   "metadata": {},
   "source": [
    "### Задание 4\n",
    "\n",
    "Реализуйте линейный поиск, который возвращает индексы всех совпадающих с искомым элементов"
   ]
  },
  {
   "cell_type": "code",
   "execution_count": 8,
   "metadata": {},
   "outputs": [],
   "source": [
    "def liearSearch(a, n):\n",
    "    indexes = []\n",
    "\n",
    "    for i, e in enumerate(a):\n",
    "        if e == n:\n",
    "            indexes.append(i)\n",
    "\n",
    "    return indexes"
   ]
  },
  {
   "cell_type": "markdown",
   "metadata": {},
   "source": [
    "### Задание 5\n",
    "\n",
    "Реализуйте сортировку выбором"
   ]
  },
  {
   "cell_type": "code",
   "execution_count": 10,
   "metadata": {},
   "outputs": [],
   "source": [
    "def selectionSort(a):\n",
    "    for i in range(len(a) - 1):\n",
    "        min_index = i\n",
    "        for j in range(i, len(a)):\n",
    "            min_index = j if a[j] < a[min_index] else min_index\n",
    "        a[i], a[min_index] = a[min_index], a[i]\n",
    "    return a"
   ]
  },
  {
   "cell_type": "markdown",
   "metadata": {},
   "source": [
    "### Задание 6\n",
    "\n",
    "Реализуйте сортировку пузырьком"
   ]
  },
  {
   "cell_type": "code",
   "execution_count": 14,
   "metadata": {},
   "outputs": [],
   "source": [
    "def bubbleSort(a):\n",
    "    for i in range(0, len(a)):\n",
    "        for j in range(len(a) - 1, i, -1):\n",
    "            if a[j] < a[j - 1]:\n",
    "                a[j], a[j - 1] = a[j - 1], a[j]\n",
    "    return a"
   ]
  },
  {
   "cell_type": "markdown",
   "metadata": {},
   "source": [
    "### Задание 7\n",
    "\n",
    "Найти индексы наименьшего, среднего и наибольшего элементов массива"
   ]
  },
  {
   "cell_type": "code",
   "execution_count": 18,
   "metadata": {},
   "outputs": [],
   "source": [
    "def findMinMidMaxIndexes(a):\n",
    "    sorted_data = list(\n",
    "        sorted(\n",
    "            map(\n",
    "                lambda x: (x[1], x[0]),\n",
    "                enumerate(a)\n",
    "            )\n",
    "        )\n",
    "    )\n",
    "\n",
    "    print(sorted_data)\n",
    "\n",
    "    return (\n",
    "        sorted_data[0][1],\n",
    "        sorted_data[len(sorted_data) // 2][1],\n",
    "        sorted_data[-1][1]\n",
    "    )"
   ]
  },
  {
   "cell_type": "markdown",
   "metadata": {},
   "source": [
    "### Задание 8\n",
    "\n",
    "Напишите сортировку пузырьком, сохраняя последовательность перемещений"
   ]
  },
  {
   "cell_type": "code",
   "execution_count": 20,
   "metadata": {},
   "outputs": [],
   "source": [
    "def bubbleSortWithHistory(a):\n",
    "    history = []\n",
    "    for i in range(0, len(a)):\n",
    "        for j in range(len(a) - 1, i, -1):\n",
    "            if a[j] < a[j - 1]:\n",
    "                a[j], a[j - 1] = a[j - 1], a[j]\n",
    "                history.append((j, j - 1))\n",
    "    return (a, history)"
   ]
  },
  {
   "cell_type": "markdown",
   "metadata": {},
   "source": [
    "### Задание 9\n",
    "\n",
    "Напишите сложение бинарных чисел (бнарное число представлено в виде массива из нулей и единиц, оба слагаемых содержат одинаковое количество разрядов)"
   ]
  },
  {
   "cell_type": "code",
   "execution_count": 23,
   "metadata": {},
   "outputs": [],
   "source": [
    "def binSum(a, b):\n",
    "    c = [0] * (1 + len(a))\n",
    "    \n",
    "    for i in range(len(a)):\n",
    "        temp_sum = a[-1 - i] + b[-1 - i]\n",
    "\n",
    "        c[-1 - i] = c[-1 - i] + temp_sum\n",
    "        c[-2 - i] = c[-1 - i] // 2\n",
    "        c[-1 - i] %= 2\n",
    "\n",
    "    return c"
   ]
  },
  {
   "cell_type": "markdown",
   "metadata": {},
   "source": [
    "### Задание 10\n",
    "\n",
    "Составить палиндром максимальной длины из символов заданной строки"
   ]
  },
  {
   "cell_type": "code",
   "execution_count": 26,
   "metadata": {},
   "outputs": [],
   "source": [
    "def createPalindrom(s):\n",
    "    chars = dict()\n",
    "\n",
    "    for ch in s:\n",
    "        if ch not in chars:\n",
    "            chars[ch] = 0\n",
    "        chars[ch] += 1\n",
    "\n",
    "    mid, half = '', ''\n",
    "\n",
    "    for ch in chars.keys():\n",
    "        half = half + (ch * (chars[ch] // 2))\n",
    "        if mid == '' and chars[ch] % 2 == 1:\n",
    "            mid = ch\n",
    "\n",
    "    return half + mid + half[::-1]"
   ]
  }
 ],
 "metadata": {
  "kernelspec": {
   "display_name": "Python 3.8.10 64-bit",
   "language": "python",
   "name": "python3"
  },
  "language_info": {
   "codemirror_mode": {
    "name": "ipython",
    "version": 3
   },
   "file_extension": ".py",
   "mimetype": "text/x-python",
   "name": "python",
   "nbconvert_exporter": "python",
   "pygments_lexer": "ipython3",
   "version": "3.8.10"
  },
  "orig_nbformat": 4,
  "vscode": {
   "interpreter": {
    "hash": "916dbcbb3f70747c44a77c7bcd40155683ae19c65e1c03b4aa3499c5328201f1"
   }
  }
 },
 "nbformat": 4,
 "nbformat_minor": 2
}
