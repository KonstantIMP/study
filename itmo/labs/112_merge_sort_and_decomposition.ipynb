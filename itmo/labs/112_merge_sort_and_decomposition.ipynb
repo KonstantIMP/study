{
 "cells": [
  {
   "attachments": {},
   "cell_type": "markdown",
   "metadata": {},
   "source": [
    "## Лабораторная работа №2. Сортировка слиянием. Метод декомпозиции"
   ]
  },
  {
   "cell_type": "code",
   "execution_count": 2,
   "metadata": {},
   "outputs": [],
   "source": [
    "# Хочу строгую типизацию\n",
    "import typing as tp"
   ]
  },
  {
   "attachments": {},
   "cell_type": "markdown",
   "metadata": {},
   "source": [
    "### Задание 1\n",
    "\n",
    "Реализуйте сортировку слиянием"
   ]
  },
  {
   "cell_type": "code",
   "execution_count": 3,
   "metadata": {},
   "outputs": [],
   "source": [
    "def merge(data: tp.List[int], l: int, p: int, r: int) -> None:\n",
    "    l_part, r_part = data[l:p], data[p:r + 1]\n",
    "    l_i, r_i, i = 0, 0, l\n",
    "    while l_i < len(l_part) or r_i < len(r_part):\n",
    "        if l_i < len(l_part) and (r_i >= len(r_part) or l_part[l_i] < r_part[r_i]):\n",
    "            data[i] = l_part[l_i]\n",
    "            l_i += 1\n",
    "        else:\n",
    "            data[i] = r_part[r_i]\n",
    "            r_i += 1\n",
    "        i += 1"
   ]
  },
  {
   "cell_type": "code",
   "execution_count": 4,
   "metadata": {},
   "outputs": [],
   "source": [
    "def merge_sort(data: tp.List[int]) -> tp.List[int]:\n",
    "    def inner_merge_sort(data: tp.List[int], l: int, r: int) -> None:\n",
    "        size = r - l + 1\n",
    "\n",
    "        if size <= 1:\n",
    "            return\n",
    "        elif size == 2:\n",
    "            data[l], data[r] = min(data[l], data[r]), max(data[l], data[r])\n",
    "            return\n",
    "        \n",
    "        p = (r + l) // 2\n",
    "        inner_merge_sort(data, l, p)\n",
    "        inner_merge_sort(data, p + 1, r)\n",
    "        merge(data, l, p + 1, r)\n",
    "\n",
    "    inner_merge_sort(data, 0, max(len(data) - 1, 0))\n",
    "    return data"
   ]
  },
  {
   "cell_type": "code",
   "execution_count": 5,
   "metadata": {},
   "outputs": [
    {
     "name": "stdout",
     "output_type": "stream",
     "text": [
      "[0, 1, 2, 3, 4, 5]\n",
      "[1, 2, 3, 4, 5]\n",
      "[2, 3, 3]\n",
      "[2, 3]\n",
      "[]\n"
     ]
    }
   ],
   "source": [
    "# Проверка\n",
    "print(merge_sort([5, 4, 3, 2, 1, 0]))\n",
    "print(merge_sort([5, 4, 3, 2, 1]))\n",
    "print(merge_sort([3, 2, 3]))\n",
    "print(merge_sort([3, 2]))\n",
    "print(merge_sort([]))"
   ]
  },
  {
   "attachments": {},
   "cell_type": "markdown",
   "metadata": {},
   "source": [
    "### Задание 2\n",
    "\n",
    "Реализуйте сортировку слиянием с сохранением истории слияний\n",
    "(Индекс начала области слияния, индекс конца области слияния, первый элемент области слияния, последний элемент области слияния)"
   ]
  },
  {
   "cell_type": "code",
   "execution_count": 6,
   "metadata": {},
   "outputs": [],
   "source": [
    "def merge_sort_with_history(data: tp.List[int]) -> tp.Tuple[tp.List[int], tp.List[tp.Tuple[int, int, int, int]]]:\n",
    "    history = []\n",
    "    \n",
    "    def inner_merge_sort_with_history(data: tp.List[int], l: int, r: int) -> None:\n",
    "        size = r - l + 1\n",
    "\n",
    "        if size <= 1:\n",
    "            return\n",
    "        elif size == 2:\n",
    "            data[l], data[r] = min(data[l], data[r]), max(data[l], data[r])\n",
    "            history.append((l + 1, r + 1, data[l], data[r]))\n",
    "            return\n",
    "        \n",
    "        p = (r + l) // 2\n",
    "        inner_merge_sort_with_history(data, l, p)\n",
    "        inner_merge_sort_with_history(data, p + 1, r)\n",
    "        merge(data, l, p + 1, r)\n",
    "        history.append((l + 1, r + 1, data[l], data[r]))\n",
    "\n",
    "    inner_merge_sort_with_history(data, 0, max(len(data) - 1, 0))\n",
    "    return (data, history)"
   ]
  },
  {
   "cell_type": "code",
   "execution_count": 7,
   "metadata": {},
   "outputs": [
    {
     "name": "stdout",
     "output_type": "stream",
     "text": [
      "([5, 7, 8, 9], [(1, 2, 7, 9), (3, 4, 5, 8), (1, 4, 5, 9)])\n"
     ]
    }
   ],
   "source": [
    "# Проверка\n",
    "print(merge_sort_with_history([9, 7, 5, 8]))"
   ]
  },
  {
   "attachments": {},
   "cell_type": "markdown",
   "metadata": {},
   "source": [
    "### Задание 3\n",
    "\n",
    "Найдите количество инверсий в массиве"
   ]
  },
  {
   "cell_type": "code",
   "execution_count": 8,
   "metadata": {},
   "outputs": [],
   "source": [
    "def count_inversions(data: tp.List[int]) -> int:\n",
    "    def merge_with_inversions_count(a: tp.List[int], b: tp.List[int]) -> tp.Tuple[tp.List[int], int]:\n",
    "        merged, counter = [], 0\n",
    "        while len(a) > 0 and len(b) > 0:\n",
    "            if a[0] > b[0]:\n",
    "                merged.append(a.pop(0))\n",
    "                counter += len(b)\n",
    "            else:\n",
    "                merged.append(b.pop(0))\n",
    "        return (merged + a + b, counter)\n",
    "    \n",
    "    def merge_sort_with_inversions_count(data: tp.List[int]) -> tp.Tuple[tp.List[int], int]:\n",
    "        if len(data) <= 1:\n",
    "            return (data, 0)\n",
    "        \n",
    "        l = data[:len(data) // 2]\n",
    "        r = data[len(data) // 2:]\n",
    "\n",
    "        ls, lc = merge_sort_with_inversions_count(l)\n",
    "        rs, rc = merge_sort_with_inversions_count(r)\n",
    "\n",
    "        res, res_c = merge_with_inversions_count(ls, rs)\n",
    "        return (res, lc + rc + res_c)\n",
    "    \n",
    "    return merge_sort_with_inversions_count(data)[1]"
   ]
  },
  {
   "cell_type": "code",
   "execution_count": 9,
   "metadata": {},
   "outputs": [
    {
     "name": "stdout",
     "output_type": "stream",
     "text": [
      "0\n",
      "6\n",
      "3\n",
      "0\n",
      "0\n"
     ]
    }
   ],
   "source": [
    "# Проверка\n",
    "print(count_inversions([1, 2, 3, 4]))\n",
    "print(count_inversions([4, 3, 2, 1]))\n",
    "print(count_inversions([3, 2, 1]))\n",
    "print(count_inversions([2]))\n",
    "print(count_inversions([]))"
   ]
  },
  {
   "attachments": {},
   "cell_type": "markdown",
   "metadata": {},
   "source": [
    "### Задание 4\n",
    "\n",
    "Реализуйте бинарный поиск\n",
    "(Здесь я ищу наименьший индекс, куда нужно поставить элемент, чтобы массив остался отсортированным)"
   ]
  },
  {
   "cell_type": "code",
   "execution_count": 10,
   "metadata": {},
   "outputs": [],
   "source": [
    "def lbin_search(data: tp.List[int], value: int) -> int:\n",
    "    l, r = 0, len(data)\n",
    "\n",
    "    while l < r:\n",
    "        m = (r + l) // 2\n",
    "\n",
    "        if data[m] > value:\n",
    "            r = m\n",
    "        elif data[m] < value:\n",
    "            l = m + 1\n",
    "        else:\n",
    "            r = m\n",
    "    \n",
    "    return max(l, r)"
   ]
  },
  {
   "cell_type": "code",
   "execution_count": 11,
   "metadata": {},
   "outputs": [
    {
     "name": "stdout",
     "output_type": "stream",
     "text": [
      "4\n",
      "0\n",
      "0\n",
      "6\n",
      "7\n",
      "4\n"
     ]
    }
   ],
   "source": [
    "# Проверка\n",
    "print(lbin_search([0, 0, 0, 0, 5], 4))\n",
    "print(lbin_search([4], 4))\n",
    "print(lbin_search([], 4))\n",
    "print(lbin_search([1, 2, 3, 4, 5, 6, 7], 7))\n",
    "print(lbin_search([1, 2, 2, 2, 3, 3, 3, 4, 5], 4))\n",
    "print(lbin_search([1, 2, 3, 4], 5))"
   ]
  },
  {
   "attachments": {},
   "cell_type": "markdown",
   "metadata": {},
   "source": [
    "### Задание 5\n",
    "\n",
    "Понять, есть ли во входной последовательности элемент, который встречается более половины раз"
   ]
  },
  {
   "cell_type": "code",
   "execution_count": 12,
   "metadata": {},
   "outputs": [],
   "source": [
    "def has_more_than_half_element(data: tp.List[int]) -> bool:\n",
    "    if len(data) == 0:\n",
    "        return False\n",
    "    \n",
    "    merge_sort(data)\n",
    "    last, r = data[0], 0\n",
    "\n",
    "    while True:\n",
    "        l = r\n",
    "        r = lbin_search(data, last + 1)\n",
    "        last = data[l]\n",
    "        size = r - l\n",
    "\n",
    "        if size > (len(data) // 2):\n",
    "            return True\n",
    "\n",
    "        if r >= len(data):\n",
    "            return False\n",
    "        "
   ]
  },
  {
   "cell_type": "code",
   "execution_count": 13,
   "metadata": {},
   "outputs": [
    {
     "name": "stdout",
     "output_type": "stream",
     "text": [
      "True\n",
      "False\n"
     ]
    }
   ],
   "source": [
    "# Проверка\n",
    "print(has_more_than_half_element([2, 3, 9, 2, 2]))\n",
    "print(has_more_than_half_element([1, 2, 3, 4]))\n"
   ]
  },
  {
   "cell_type": "code",
   "execution_count": 14,
   "metadata": {},
   "outputs": [],
   "source": [
    "def has_more_than_half_element_on(data: tp.List[int]) -> bool:\n",
    "    counter, element = 0, None\n",
    "\n",
    "    for i in range(len(data)):\n",
    "        if element is None:\n",
    "            element = data[i]\n",
    "            counter = 1\n",
    "        elif element == data[i]:\n",
    "            counter += 1\n",
    "        else:\n",
    "            counter -= 1\n",
    "            if counter == 0:\n",
    "                element = None\n",
    "\n",
    "    num = 0\n",
    "    for i in data:\n",
    "        if i == element:\n",
    "            num += 1\n",
    "\n",
    "    return (num * 2) > len(data)"
   ]
  },
  {
   "cell_type": "code",
   "execution_count": 15,
   "metadata": {},
   "outputs": [
    {
     "name": "stdout",
     "output_type": "stream",
     "text": [
      "True\n",
      "False\n"
     ]
    }
   ],
   "source": [
    "# Проверка\n",
    "print(has_more_than_half_element_on([2, 3, 9, 2, 2]))\n",
    "print(has_more_than_half_element_on([1, 2, 3, 4]))"
   ]
  },
  {
   "attachments": {},
   "cell_type": "markdown",
   "metadata": {},
   "source": [
    "### Задание 6\n",
    "\n",
    "Реализуйте поиск подмассива (непрерывного) с максимальной суммой элементов"
   ]
  },
  {
   "cell_type": "code",
   "execution_count": 16,
   "metadata": {},
   "outputs": [],
   "source": [
    "def find_max_subarray(data: tp.List[int]) -> tp.Tuple[int, int, int]:\n",
    "    if len(data) == 0:\n",
    "        return (0, 0, 0)\n",
    "\n",
    "    def inner_find_max_subarray_middle(data: tp.List[int], l: int, r: int, p: int) -> tp.Tuple[int, int, int]:\n",
    "        cl, ml, mli = data[p], data[p], p\n",
    "        cr, mr, mri = data[p + 1], data[p + 1], p + 1\n",
    "\n",
    "        for i in range(p - 1, l - 1, -1):\n",
    "            cl += data[i]\n",
    "            if cl > ml:\n",
    "                ml, mli = cl, i\n",
    "\n",
    "        for i in range(p + 2, r + 1):\n",
    "            cr += data[i]\n",
    "            if cr > mr:\n",
    "                mr, mri = cr, i\n",
    "\n",
    "        return (mli, mri, ml + mr)\n",
    "\n",
    "    def inner_find_max_subarray(data: tp.List[int], l: int, r: int) -> tp.Tuple[int, int, int]:\n",
    "        if l == r:\n",
    "            return (l, r, data[l])\n",
    "        m = (l + r) // 2\n",
    "\n",
    "        ll, lr, ls = inner_find_max_subarray(data, l, m)\n",
    "        rl, rr, rs = inner_find_max_subarray(data, m + 1, r)\n",
    "        ml, mr, ms = inner_find_max_subarray_middle(data, l=l, r=r, p=m)\n",
    "\n",
    "        if ls > rs and ls > ms:\n",
    "            return (ll, lr, ls)\n",
    "        elif rs > ls and rs > ms:\n",
    "            return (rl, rr, rs)\n",
    "        else:\n",
    "            return (ml, mr, ms)\n",
    "\n",
    "    return inner_find_max_subarray(data, 0, len(data) - 1)"
   ]
  },
  {
   "cell_type": "code",
   "execution_count": 17,
   "metadata": {},
   "outputs": [
    {
     "name": "stdout",
     "output_type": "stream",
     "text": [
      "(7, 10, 43)\n"
     ]
    }
   ],
   "source": [
    "# Проверка\n",
    "print(find_max_subarray([13, -3, -25, 20, -3, -16, -23, 18, 20, -7, 12, -5, -22, 15, -4, 7]))"
   ]
  },
  {
   "cell_type": "code",
   "execution_count": 18,
   "metadata": {},
   "outputs": [],
   "source": [
    "def find_max_subarray_on(data: tp.List[int]) -> tp.Tuple[int, int, int]:\n",
    "    if len(data) == 0:\n",
    "        return (0, 0, 0)\n",
    "    \n",
    "    res = data[0]\n",
    "    res_l, res_r = 0, 0\n",
    "\n",
    "    current_sum = 0\n",
    "\n",
    "    min_sum = 0\n",
    "    min_pos = -1\n",
    "\n",
    "    for i in range(len(data)):\n",
    "        current_sum += data[i]\n",
    "\n",
    "        if current_sum - min_sum > res:\n",
    "            res = current_sum - min_sum\n",
    "            res_l = min_pos + 1\n",
    "            res_r = i\n",
    "\n",
    "        if current_sum < min_sum:\n",
    "            min_sum = current_sum\n",
    "            min_pos = i\n",
    "\n",
    "    return (res_l, res_r, res)"
   ]
  },
  {
   "cell_type": "code",
   "execution_count": 19,
   "metadata": {},
   "outputs": [
    {
     "name": "stdout",
     "output_type": "stream",
     "text": [
      "(7, 10, 43)\n"
     ]
    }
   ],
   "source": [
    "# Проверка\n",
    "print(find_max_subarray_on([13, -3, -25, 20, -3, -16, -23, 18, 20, -7, 12, -5, -22, 15, -4, 7]))"
   ]
  },
  {
   "cell_type": "code",
   "execution_count": 20,
   "metadata": {},
   "outputs": [],
   "source": [
    "def find_max_subarray_kadan(data: tp.List[int]) -> tp.Tuple[int, int, int]:\n",
    "    if len(data) == 0:\n",
    "        return (0, 0, 0)\n",
    "    \n",
    "    res = data[0]\n",
    "    res_l, res_r = 0, 0\n",
    "\n",
    "    current_sum = 0\n",
    "    min_sum_pos = -1\n",
    "\n",
    "    for i in range(len(data)):\n",
    "        current_sum += data[i]\n",
    "        \n",
    "        if current_sum > res:\n",
    "            res = current_sum\n",
    "            res_l = min_sum_pos + 1\n",
    "            res_r = i\n",
    "\n",
    "        if current_sum < 0:\n",
    "            current_sum = 0\n",
    "            min_sum_pos = i\n",
    "\n",
    "    return (res_l, res_r, res)"
   ]
  },
  {
   "cell_type": "code",
   "execution_count": 21,
   "metadata": {},
   "outputs": [
    {
     "name": "stdout",
     "output_type": "stream",
     "text": [
      "(7, 10, 43)\n"
     ]
    }
   ],
   "source": [
    "# Проверка\n",
    "print(find_max_subarray_kadan([13, -3, -25, 20, -3, -16, -23, 18, 20, -7, 12, -5, -22, 15, -4, 7]))"
   ]
  },
  {
   "attachments": {},
   "cell_type": "markdown",
   "metadata": {},
   "source": [
    "### Задание 8\n",
    "\n",
    "Реализуйте умножение многочленов"
   ]
  },
  {
   "cell_type": "code",
   "execution_count": 103,
   "metadata": {},
   "outputs": [],
   "source": [
    "from math import ceil\n",
    "\n",
    "def sum_polinoms(a: tp.List[int], b: tp.List[int]) -> tp.List[int]:\n",
    "    return [sum(i) for i in zip([0] * max(0, len(b) - len(a)) + a, [0] * max(0, len(a) - len(b)) + b)]\n",
    "\n",
    "def sub_polinoms(a: tp.List[int], b: tp.List[int]) -> tp.List[int]:\n",
    "    return [i[0] - i[1] for i in zip([0] * max(0, len(b) - len(a)) + a, [0] * max(0, len(a) - len(b)) + b)]\n",
    "\n",
    "def multiply_polinoms(a: tp.List[int], b: tp.List[int]) -> tp.List[int]:\n",
    "    if len(a) != len(b):\n",
    "        prefix = [0] * abs(len(a) - len(b))\n",
    "        return multiply_polinoms(\n",
    "            (a) if len(a) > len(b) else (prefix + a),\n",
    "            (b) if len(b) > len(a) else (prefix + b)\n",
    "        )\n",
    "    \n",
    "    n = len(a)\n",
    "    if n == 0:\n",
    "        return []\n",
    "    elif n == 1:\n",
    "        return [a[0] * b[0]]\n",
    "    \n",
    "    a1, a2 = a[:n // 2], a[n // 2:]\n",
    "    b1, b2 = b[:n // 2], b[n // 2:]\n",
    "\n",
    "    m1, m2 = multiply_polinoms(a1, b1), multiply_polinoms(a2, b2)\n",
    "    \n",
    "    a_sum = sum_polinoms(a1, a2)\n",
    "    b_sum = sum_polinoms(b1, b2)\n",
    "    \n",
    "    m3 = multiply_polinoms(a_sum, b_sum)\n",
    "    m4 = sub_polinoms(sub_polinoms(m3, m1), m2)\n",
    "\n",
    "    return sum_polinoms(sum_polinoms(m1 + [0] * (2 * n - 2), m4 + [0] * ceil(n / 2.0)), m2)"
   ]
  },
  {
   "cell_type": "code",
   "execution_count": 104,
   "metadata": {},
   "outputs": [
    {
     "name": "stdout",
     "output_type": "stream",
     "text": [
      "[15]\n",
      "[2, 9, 10]\n",
      "[15, 13, 33, 9, 10]\n"
     ]
    }
   ],
   "source": [
    "# Проверка\n",
    "print(multiply_polinoms([3], [5]))\n",
    "print(multiply_polinoms([2, 5], [1, 2]))\n",
    "print(multiply_polinoms([3, 2, 5], [5, 1, 2]))"
   ]
  },
  {
   "attachments": {},
   "cell_type": "markdown",
   "metadata": {},
   "source": [
    "### Задание 9\n",
    "\n",
    "Реализуйте умножение матриц методом Штрассена"
   ]
  },
  {
   "cell_type": "code",
   "execution_count": 105,
   "metadata": {},
   "outputs": [],
   "source": [
    "Matrix = tp.List[tp.List[int]]"
   ]
  },
  {
   "cell_type": "code",
   "execution_count": 126,
   "metadata": {},
   "outputs": [],
   "source": [
    "def stupid_squares_multiply(a: Matrix, b: Matrix) -> Matrix:\n",
    "    n = len(a)\n",
    "    res = [[0] * n for _ in range(n)]\n",
    "\n",
    "    for i in range(n):\n",
    "        for j in range(n):\n",
    "            for k in range(n):\n",
    "                res[i][j] += (a[i][k] * b[k][j])\n",
    "\n",
    "    return res"
   ]
  },
  {
   "cell_type": "code",
   "execution_count": 116,
   "metadata": {},
   "outputs": [
    {
     "name": "stdout",
     "output_type": "stream",
     "text": [
      "[[1]]\n",
      "[[19, 22], [43, 50]]\n"
     ]
    }
   ],
   "source": [
    "# Проверка\n",
    "print(stupid_squares_multiply([[1]], [[1]]))\n",
    "print(stupid_squares_multiply([[1, 2], [3, 4]], [[5, 6], [7, 8]]))"
   ]
  },
  {
   "cell_type": "code",
   "execution_count": 117,
   "metadata": {},
   "outputs": [],
   "source": [
    "def split_square(a: Matrix) -> tp.Tuple[Matrix, Matrix, Matrix, Matrix]:\n",
    "    n = len(a)\n",
    "\n",
    "    return (\n",
    "        [i[:n // 2] for i in a[:n // 2]],\n",
    "        [i[n // 2:] for i in a[:n // 2]],\n",
    "        [i[:n // 2] for i in a[n // 2:]],\n",
    "        [i[n // 2:] for i in a[n // 2:]],\n",
    "    )"
   ]
  },
  {
   "cell_type": "code",
   "execution_count": 122,
   "metadata": {},
   "outputs": [],
   "source": [
    "def sum_squares(a: Matrix, b: Matrix) -> Matrix:\n",
    "    return [[sum(j) for j in zip(i[0], i[1])] for i in zip(a, b)]\n",
    "\n",
    "def sub_squares(a: Matrix, b: Matrix) -> Matrix:\n",
    "    func = lambda x: x[0] - x[1]\n",
    "    return [[func(j) for j in zip(i[0], i[1])] for i in zip(a, b)]"
   ]
  },
  {
   "cell_type": "code",
   "execution_count": 124,
   "metadata": {},
   "outputs": [],
   "source": [
    "def shtrassen_squares_multiply(m1: Matrix, m2: Matrix) -> Matrix:\n",
    "    n = len(m1)\n",
    "\n",
    "    if n <= 2 or n % 2 == 1:\n",
    "        return stupid_squares_multiply(m1, m2)\n",
    "    \n",
    "    a, b, c, d = split_square(m1)\n",
    "    e, f, g, h = split_square(m2)\n",
    "\n",
    "    p1 = shtrassen_squares_multiply(a, sub_squares(f, h))\n",
    "    p2 = shtrassen_squares_multiply(sum_squares(a, b), h)\n",
    "    p3 = shtrassen_squares_multiply(sum_squares(c, d), e)\n",
    "    p4 = shtrassen_squares_multiply(d, sub_squares(g, e))\n",
    "    p5 = shtrassen_squares_multiply(sum_squares(a, d), sum_squares(e, h))\n",
    "    p6 = shtrassen_squares_multiply(sub_squares(b, d), sum_squares(g, h))\n",
    "    p7 = shtrassen_squares_multiply(sub_squares(a, c), sum_squares(e, f))\n",
    "\n",
    "    tl = sum_squares(sub_squares(sub_squares(p5, p4), p2), p6)\n",
    "    tr = sum_squares(p1, p2)\n",
    "    bl = sum_squares(p3, p4)\n",
    "    br = sub_squares(sub_squares(sum_squares(p1, p5), p3), p7)\n",
    "\n",
    "    l, r = tl + bl, tr + br\n",
    "\n",
    "    func = lambda x: x[0] + x[1]\n",
    "    return [func(i) for i in zip(l, r)]"
   ]
  },
  {
   "cell_type": "code",
   "execution_count": 127,
   "metadata": {},
   "outputs": [
    {
     "name": "stdout",
     "output_type": "stream",
     "text": [
      "[[28, 47, 47, 57], [48, 119, 119, 145], [44, 41, 56, 71], [111, 79, 101, 123]]\n"
     ]
    }
   ],
   "source": [
    "m = [[1, 2, 3, 4], [5, 6, 7, 8], [9, 1, 2, 3], [4, 5, 6 ,7]]\n",
    "print(shtrassen_squares_multiply(m, m))"
   ]
  }
 ],
 "metadata": {
  "kernelspec": {
   "display_name": "Python 3",
   "language": "python",
   "name": "python3"
  },
  "language_info": {
   "codemirror_mode": {
    "name": "ipython",
    "version": 3
   },
   "file_extension": ".py",
   "mimetype": "text/x-python",
   "name": "python",
   "nbconvert_exporter": "python",
   "pygments_lexer": "ipython3",
   "version": "3.11.2"
  },
  "orig_nbformat": 4
 },
 "nbformat": 4,
 "nbformat_minor": 2
}
