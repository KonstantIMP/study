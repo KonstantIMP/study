{
 "cells": [
  {
   "attachments": {},
   "cell_type": "markdown",
   "metadata": {},
   "source": [
    "## Лабораторная работа №1. Сортировка вставками, выбором и пузырьковая"
   ]
  },
  {
   "cell_type": "code",
   "execution_count": 1,
   "metadata": {},
   "outputs": [],
   "source": [
    "# Хочу типизированные функции\n",
    "import typing as tp"
   ]
  },
  {
   "attachments": {},
   "cell_type": "markdown",
   "metadata": {},
   "source": [
    "### Задание 1\n",
    "\n",
    "Реализуйте сортировку вставками"
   ]
  },
  {
   "cell_type": "code",
   "execution_count": 2,
   "metadata": {},
   "outputs": [],
   "source": [
    "def insertion_sort(data: tp.List[int]) -> tp.List[int]:\n",
    "    for i in range(1, len(data)):\n",
    "        for j in range(i, 0, -1):\n",
    "            if data[j] < data[j - 1]:\n",
    "                data[j], data[j - 1] = data[j - 1], data[j]\n",
    "            else:\n",
    "                break\n",
    "    return data"
   ]
  },
  {
   "cell_type": "code",
   "execution_count": 3,
   "metadata": {},
   "outputs": [
    {
     "name": "stdout",
     "output_type": "stream",
     "text": [
      "[1, 2, 3, 4, 5]\n",
      "[1, 2, 3, 4, 5]\n",
      "[1, 1, 1, 1, 1]\n",
      "[-9, -2, 4, 17]\n",
      "[]\n"
     ]
    }
   ],
   "source": [
    "# Проверка\n",
    "print(insertion_sort([5, 4, 3, 2, 1]))\n",
    "print(insertion_sort([1, 2, 3, 4, 5]))\n",
    "print(insertion_sort([1, 1, 1, 1, 1]))\n",
    "print(insertion_sort([4, -2, 17, -9]))\n",
    "print(insertion_sort([]))"
   ]
  },
  {
   "attachments": {},
   "cell_type": "markdown",
   "metadata": {},
   "source": [
    "### Задание 2\n",
    "\n",
    "Дополните сортировку вставками, чтобы в выходном файле отображалось в первой строке n чисел, которые обозначают новый индекс элемента массива после обработки\n",
    "(непосредственно после обработки элемента, а не после всей сортировки)"
   ]
  },
  {
   "cell_type": "code",
   "execution_count": 4,
   "metadata": {},
   "outputs": [],
   "source": [
    "def extended_insertion_sort(data: tp.List[int]) -> tp.Tuple[tp.List[int], tp.List[int]]:\n",
    "    moves = [1] if (len(data) != 0) else []\n",
    "    for i in range(1, len(data)):\n",
    "        moves.append(i + 1)\n",
    "        for j in range(i, 0, -1):\n",
    "            if data[j] < data[j - 1]:\n",
    "                data[j], data[j - 1] = data[j - 1], data[j]\n",
    "                moves[-1] -= 1\n",
    "            else:\n",
    "                break\n",
    "    return (moves, data)\n",
    "    "
   ]
  },
  {
   "cell_type": "code",
   "execution_count": 5,
   "metadata": {},
   "outputs": [
    {
     "name": "stdout",
     "output_type": "stream",
     "text": [
      "([1, 2, 2, 2, 3, 5, 5, 6, 9, 1], [0, 1, 2, 3, 4, 5, 6, 7, 8, 9])\n"
     ]
    }
   ],
   "source": [
    "# Проверка\n",
    "print(extended_insertion_sort([1, 8, 4, 2, 3, 7, 5, 6, 9, 0]))"
   ]
  },
  {
   "attachments": {},
   "cell_type": "markdown",
   "metadata": {},
   "source": [
    "### Задание 3\n",
    "\n",
    "Сортировка вставкой о убываию, с использованием процедуры swap"
   ]
  },
  {
   "cell_type": "code",
   "execution_count": 6,
   "metadata": {},
   "outputs": [],
   "source": [
    "def swap(data: tp.List[tp.Any], a: int, b: int) -> None:\n",
    "    data[a], data[b] = data[b], data[a]"
   ]
  },
  {
   "cell_type": "code",
   "execution_count": 7,
   "metadata": {},
   "outputs": [],
   "source": [
    "def inverted_insertion_sort(data: tp.List[int]) -> tp.List[int]:\n",
    "    for i in range(1, len(data)):\n",
    "        for j in range(i, 0, -1):\n",
    "            if data[j] > data[j - 1]:\n",
    "                swap(data, j, j - 1)\n",
    "            else:\n",
    "                break\n",
    "    return data"
   ]
  },
  {
   "cell_type": "code",
   "execution_count": 8,
   "metadata": {},
   "outputs": [
    {
     "name": "stdout",
     "output_type": "stream",
     "text": [
      "[5, 4, 3, 2, 1]\n",
      "[5, 4, 3, 2, 1]\n",
      "[1, 1, 1, 1, 1]\n",
      "[17, 4, -2, -9]\n",
      "[]\n"
     ]
    }
   ],
   "source": [
    "# Проверка\n",
    "print(inverted_insertion_sort([5, 4, 3, 2, 1]))\n",
    "print(inverted_insertion_sort([1, 2, 3, 4, 5]))\n",
    "print(inverted_insertion_sort([1, 1, 1, 1, 1]))\n",
    "print(inverted_insertion_sort([4, -2, 17, -9]))\n",
    "print(inverted_insertion_sort([]))"
   ]
  },
  {
   "attachments": {},
   "cell_type": "markdown",
   "metadata": {},
   "source": [
    "### Задание 4\n",
    "\n",
    "Реализуйте линейный поиск"
   ]
  },
  {
   "cell_type": "code",
   "execution_count": 9,
   "metadata": {},
   "outputs": [],
   "source": [
    "def linear_search(data: tp.List[int], value: int) -> int:\n",
    "    for i in range(len(data)):\n",
    "        if data[i] == value:\n",
    "            return i\n",
    "    return -1"
   ]
  },
  {
   "cell_type": "code",
   "execution_count": 10,
   "metadata": {},
   "outputs": [
    {
     "name": "stdout",
     "output_type": "stream",
     "text": [
      "1\n",
      "1\n",
      "-1\n",
      "-1\n"
     ]
    }
   ],
   "source": [
    "# Проверка\n",
    "print(linear_search([1, 2, 2, 3], 2))\n",
    "print(linear_search([1, 2, 3], 2))\n",
    "print(linear_search([1, 2, 3], 4))\n",
    "print(linear_search([], 2))"
   ]
  },
  {
   "attachments": {},
   "cell_type": "markdown",
   "metadata": {},
   "source": [
    "### Задание 5\n",
    "\n",
    "Реализуйте сортировку выбором"
   ]
  },
  {
   "cell_type": "code",
   "execution_count": 11,
   "metadata": {},
   "outputs": [],
   "source": [
    "def selection_sort(data: tp.List[int]) -> tp.List[int]:\n",
    "    for i in range(len(data) - 1):\n",
    "        min_index = i\n",
    "        for j in range(i + 1, len(data)):\n",
    "            if data[j] < data[i]:\n",
    "                min_index = j\n",
    "        data[i], data[min_index] = data[min_index], data[i]\n",
    "    return data"
   ]
  },
  {
   "cell_type": "code",
   "execution_count": 12,
   "metadata": {},
   "outputs": [
    {
     "name": "stdout",
     "output_type": "stream",
     "text": [
      "[1, 2, 3, 4, 5]\n",
      "[1, 2, 3, 4, 5]\n",
      "[1, 1, 1, 1, 1]\n",
      "[-9, -2, 4, 17]\n",
      "[]\n"
     ]
    }
   ],
   "source": [
    "# Проверка\n",
    "print(selection_sort([5, 4, 3, 2, 1]))\n",
    "print(selection_sort([1, 2, 3, 4, 5]))\n",
    "print(selection_sort([1, 1, 1, 1, 1]))\n",
    "print(selection_sort([4, -2, 17, -9]))\n",
    "print(selection_sort([]))"
   ]
  },
  {
   "attachments": {},
   "cell_type": "markdown",
   "metadata": {},
   "source": [
    "### Задание 6\n",
    "\n",
    "Напишите сортировку пузырьком"
   ]
  },
  {
   "cell_type": "code",
   "execution_count": 13,
   "metadata": {},
   "outputs": [],
   "source": [
    "def bubble_sort(data: tp.List[int]) -> tp.List[int]:\n",
    "    for i in range(len(data) - 1):\n",
    "        for j in range(i + 1, len(data)):\n",
    "            if data[i] > data[j]:\n",
    "                data[i], data[j] = data[j], data[i]\n",
    "    return data"
   ]
  },
  {
   "cell_type": "code",
   "execution_count": 14,
   "metadata": {},
   "outputs": [
    {
     "name": "stdout",
     "output_type": "stream",
     "text": [
      "[1, 2, 3, 4, 5]\n",
      "[1, 2, 3, 4, 5]\n",
      "[1, 1, 1, 1, 1]\n",
      "[-9, -2, 4, 17]\n",
      "[]\n"
     ]
    }
   ],
   "source": [
    "# Проверка\n",
    "print(bubble_sort([5, 4, 3, 2, 1]))\n",
    "print(bubble_sort([1, 2, 3, 4, 5]))\n",
    "print(bubble_sort([1, 1, 1, 1, 1]))\n",
    "print(bubble_sort([4, -2, 17, -9]))\n",
    "print(bubble_sort([]))"
   ]
  },
  {
   "attachments": {},
   "cell_type": "markdown",
   "metadata": {},
   "source": [
    "### Задание 7\n",
    "\n",
    "Найдите индексы наименьшего, наибольшего и медианного значений массива"
   ]
  },
  {
   "cell_type": "code",
   "execution_count": 15,
   "metadata": {},
   "outputs": [],
   "source": [
    "def task7(data: tp.List[int]) -> tp.Tuple[int, int, int]:\n",
    "    sorted_data = list(\n",
    "        sorted(\n",
    "            map(\n",
    "                lambda x: (x[1], x[0] + 1),\n",
    "                enumerate(data)\n",
    "            )\n",
    "        )\n",
    "    )\n",
    "    return (\n",
    "        sorted_data[0][1],\n",
    "        sorted_data[len(sorted_data) // 2][1],\n",
    "        sorted_data[-1][1]\n",
    "    )"
   ]
  },
  {
   "cell_type": "code",
   "execution_count": 16,
   "metadata": {},
   "outputs": [
    {
     "name": "stdout",
     "output_type": "stream",
     "text": [
      "(3, 4, 1)\n"
     ]
    }
   ],
   "source": [
    "print(task7([1000, 870, 1, 500, 300]))"
   ]
  },
  {
   "attachments": {},
   "cell_type": "markdown",
   "metadata": {},
   "source": [
    "### Задание 8\n",
    "\n",
    "Реализуйте сортировку с сохранением истории перемещений"
   ]
  },
  {
   "cell_type": "code",
   "execution_count": 17,
   "metadata": {},
   "outputs": [],
   "source": [
    "def selection_sort_with_history(data: tp.List[int]) -> tp.Tuple[tp.List[int], tp.List[tp.Tuple[int, int]]]:\n",
    "    history = []\n",
    "\n",
    "    for i in range(len(data) - 1):\n",
    "        min_index = i\n",
    "        for j in range(i + 1, len(data)):\n",
    "            if data[j] < data[min_index]:\n",
    "                min_index = j\n",
    "        if min_index != i:\n",
    "            data[i], data[min_index] = data[min_index], data[i]\n",
    "            history.append((i, min_index))\n",
    "    return (data, history)"
   ]
  },
  {
   "cell_type": "code",
   "execution_count": 18,
   "metadata": {},
   "outputs": [
    {
     "name": "stdout",
     "output_type": "stream",
     "text": [
      "([1, 2, 3, 4, 5], [(0, 4), (1, 3)])\n",
      "([1, 2, 3, 4, 5], [])\n",
      "([1, 1, 1, 1, 1], [])\n",
      "([-9, -2, 4, 17], [(0, 3), (2, 3)])\n",
      "([], [])\n"
     ]
    }
   ],
   "source": [
    "# Проверка\n",
    "print(selection_sort_with_history([5, 4, 3, 2, 1]))\n",
    "print(selection_sort_with_history([1, 2, 3, 4, 5]))\n",
    "print(selection_sort_with_history([1, 1, 1, 1, 1]))\n",
    "print(selection_sort_with_history([4, -2, 17, -9]))\n",
    "print(selection_sort_with_history([]))"
   ]
  },
  {
   "attachments": {},
   "cell_type": "markdown",
   "metadata": {},
   "source": [
    "### Задание 9\n",
    "\n",
    "Реализуйте сложение бинарных чисел, представленных в виде массива 0 и 1"
   ]
  },
  {
   "cell_type": "code",
   "execution_count": 19,
   "metadata": {},
   "outputs": [],
   "source": [
    "def bin_sum(a: tp.List[int], b: tp.List[int]) -> tp.List[int]:\n",
    "    if len(a) != len(b):\n",
    "        prefix = [0] * abs(len(a) - len(b))\n",
    "        if len(a) > len(b):\n",
    "            return bin_sum(a, prefix + b)\n",
    "        else:\n",
    "            return bin_sum(prefix + a, b)\n",
    "    result = [0] * (len(a) + 1)\n",
    "    for i in range(1, len(a) + 1):\n",
    "        t = a[-i] + b[-i] + result[-i]\n",
    "        if t < 2:\n",
    "            result[-i] = t\n",
    "        else:\n",
    "            result[-i] = t % 2\n",
    "            result[-(i + 1)] = 1\n",
    "    return result"
   ]
  },
  {
   "cell_type": "code",
   "execution_count": 20,
   "metadata": {},
   "outputs": [
    {
     "name": "stdout",
     "output_type": "stream",
     "text": [
      "[1, 0, 1, 1]\n",
      "[1, 1, 1, 0]\n",
      "[1, 0, 1, 1]\n",
      "[0, 1, 1, 1]\n"
     ]
    }
   ],
   "source": [
    "# Проверка\n",
    "print(bin_sum([1, 1, 0], [1, 0, 1]))\n",
    "print(bin_sum([1, 1, 1], [1, 1, 1]))\n",
    "print(bin_sum([1, 0, 0], [1, 1, 1]))\n",
    "print(bin_sum([1, 0], [1, 0, 1]))"
   ]
  },
  {
   "attachments": {},
   "cell_type": "markdown",
   "metadata": {},
   "source": [
    "### Задание 10\n",
    "\n",
    "Составить из заданных символов палиндром максимально возможной длины"
   ]
  },
  {
   "cell_type": "code",
   "execution_count": 21,
   "metadata": {},
   "outputs": [],
   "source": [
    "def gen_the_longest_palindrom(src: str) -> str:\n",
    "    letters = dict()\n",
    "    for ch in src:\n",
    "        if ch not in letters:\n",
    "            letters[ch] = 0\n",
    "        letters[ch] += 1\n",
    "    \n",
    "    result = ''\n",
    "    mid = ''\n",
    "    \n",
    "    for l, c in letters.items():\n",
    "        if c % 2 == 1 and mid == '':\n",
    "            mid = l\n",
    "        result += (l * (c // 2))\n",
    "\n",
    "    return result + mid + result[::-1]"
   ]
  },
  {
   "cell_type": "code",
   "execution_count": 22,
   "metadata": {},
   "outputs": [
    {
     "name": "stdout",
     "output_type": "stream",
     "text": [
      "aba\n",
      "qazzaq\n",
      "a\n"
     ]
    }
   ],
   "source": [
    "# Проверка\n",
    "print(gen_the_longest_palindrom('aab'))\n",
    "print(gen_the_longest_palindrom('qazqaz'))\n",
    "print(gen_the_longest_palindrom('abcdef'))"
   ]
  }
 ],
 "metadata": {
  "kernelspec": {
   "display_name": "Python 3",
   "language": "python",
   "name": "python3"
  },
  "language_info": {
   "codemirror_mode": {
    "name": "ipython",
    "version": 3
   },
   "file_extension": ".py",
   "mimetype": "text/x-python",
   "name": "python",
   "nbconvert_exporter": "python",
   "pygments_lexer": "ipython3",
   "version": "3.11.2"
  },
  "orig_nbformat": 4
 },
 "nbformat": 4,
 "nbformat_minor": 2
}
