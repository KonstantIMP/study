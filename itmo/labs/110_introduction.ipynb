{
 "cells": [
  {
   "attachments": {},
   "cell_type": "markdown",
   "metadata": {},
   "source": [
    "## Лабораторная работа №0. Введение"
   ]
  },
  {
   "attachments": {},
   "cell_type": "markdown",
   "metadata": {},
   "source": [
    "### Задание 1. Ввод-вывод\n",
    "\n",
    "Написать программу, которая\n",
    "1. Считывает два числа `a` и `b` и выводит их сумму\n",
    "2. Считывает два числа `a` и `b` и выводит результат `a + b^2`\n",
    "3. Считывает два числа `a` и `b` из файла и печатает в файл их сумму\n",
    "4. Считывает два числа `a` и `b` из файла и печатает в файл результат `a+b^2`"
   ]
  },
  {
   "cell_type": "code",
   "execution_count": 1,
   "metadata": {},
   "outputs": [],
   "source": [
    "def task1_1() -> None:\n",
    "    a, b = map(int, input().strip().split())\n",
    "    print(a + b)"
   ]
  },
  {
   "cell_type": "code",
   "execution_count": 2,
   "metadata": {},
   "outputs": [],
   "source": [
    "def task1_2() -> None:\n",
    "    a, b = map(int, input().strip().split())\n",
    "    print(a + b ** 2)"
   ]
  },
  {
   "cell_type": "code",
   "execution_count": 9,
   "metadata": {},
   "outputs": [],
   "source": [
    "def task1_3(input_file: str, output_file: str) -> None:\n",
    "    with open(input_file, 'r') as fin:\n",
    "        a, b = map(int, fin.readline().strip().split())\n",
    "        with open(output_file, 'w+') as fout:\n",
    "            fout.write(f'{a + b}')"
   ]
  },
  {
   "cell_type": "code",
   "execution_count": 7,
   "metadata": {},
   "outputs": [],
   "source": [
    "def task1_4(input_file: str, output_file: str) -> None:\n",
    "    with open(input_file, 'r') as fin:\n",
    "        a, b = map(int, fin.readline().strip().split())\n",
    "        with open(output_file, 'w+') as fout:\n",
    "            fout.write(f'{a + b ** 2}')"
   ]
  },
  {
   "cell_type": "code",
   "execution_count": 10,
   "metadata": {},
   "outputs": [
    {
     "name": "stdout",
     "output_type": "stream",
     "text": [
      "25\n",
      "181\n"
     ]
    }
   ],
   "source": [
    "# Проверка\n",
    "task1_1()\n",
    "task1_2()\n",
    "task1_3('input.txt', 'output1.txt')\n",
    "task1_4('input.txt', 'output2.txt')"
   ]
  },
  {
   "attachments": {},
   "cell_type": "markdown",
   "metadata": {},
   "source": [
    "### Задание 2. Число Фиббоначи\n",
    "\n",
    "Написать программу, которая ищет `n`-ое число Фиббоначи\n",
    "Причем F(0) = 0, F(1) = 1"
   ]
  },
  {
   "cell_type": "code",
   "execution_count": 12,
   "metadata": {},
   "outputs": [],
   "source": [
    "def fib(n: int) -> int:\n",
    "    def fib_rec(f: int, s: int, c: int, n: int) -> int:\n",
    "        if c == n:\n",
    "            return f + s\n",
    "        return fib_rec(s, f + s, c + 1, n)\n",
    "    \n",
    "    if n < 2:\n",
    "        return n\n",
    "    return fib_rec(0, 1, 2, n)"
   ]
  },
  {
   "cell_type": "code",
   "execution_count": 15,
   "metadata": {},
   "outputs": [
    {
     "name": "stdout",
     "output_type": "stream",
     "text": [
      "55\n"
     ]
    }
   ],
   "source": [
    "# Проверка\n",
    "print(fib(int(input())))"
   ]
  },
  {
   "attachments": {},
   "cell_type": "markdown",
   "metadata": {},
   "source": [
    "### Задание 3. Еще про числа Фиббоначи\n",
    "\n",
    "Нужно найти последнюю цифру `n`-ого числа Фиббоначи"
   ]
  },
  {
   "cell_type": "code",
   "execution_count": 21,
   "metadata": {},
   "outputs": [],
   "source": [
    "# Слишком большая рекрсия для тестового примера\n",
    "import sys\n",
    "sys.setrecursionlimit(400_000)"
   ]
  },
  {
   "cell_type": "code",
   "execution_count": 22,
   "metadata": {},
   "outputs": [],
   "source": [
    "def fib_last_digit(n: int) -> int:\n",
    "    def fib_rec_last_digit(f: int, s: int, c: int, n: int) -> int:\n",
    "        if c == n:\n",
    "            return (f + s) % 10\n",
    "        return fib_rec_last_digit(s, (f + s) % 10, c + 1, n)\n",
    "    \n",
    "    if n < 2:\n",
    "        return n\n",
    "    return fib_rec_last_digit(0, 1, 2, n)"
   ]
  },
  {
   "cell_type": "code",
   "execution_count": 23,
   "metadata": {},
   "outputs": [
    {
     "name": "stdout",
     "output_type": "stream",
     "text": [
      "5\n"
     ]
    }
   ],
   "source": [
    "# Проверка\n",
    "print(fib_last_digit(int(input())))"
   ]
  }
 ],
 "metadata": {
  "kernelspec": {
   "display_name": "Python 3",
   "language": "python",
   "name": "python3"
  },
  "language_info": {
   "codemirror_mode": {
    "name": "ipython",
    "version": 3
   },
   "file_extension": ".py",
   "mimetype": "text/x-python",
   "name": "python",
   "nbconvert_exporter": "python",
   "pygments_lexer": "ipython3",
   "version": "3.11.2"
  },
  "orig_nbformat": 4
 },
 "nbformat": 4,
 "nbformat_minor": 2
}
