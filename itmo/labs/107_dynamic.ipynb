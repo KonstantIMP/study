{
 "cells": [
  {
   "cell_type": "markdown",
   "metadata": {},
   "source": [
    "## Динамическое программирование\n",
    "\n",
    "Формулировки заданий видоизменены, потому что мне не хотелось писать их полностью"
   ]
  },
  {
   "cell_type": "code",
   "execution_count": 1,
   "metadata": {},
   "outputs": [],
   "source": [
    "## Мне пригодится\n",
    "import typing as tp\n",
    "import iplantuml"
   ]
  },
  {
   "cell_type": "markdown",
   "metadata": {},
   "source": [
    "### Задание 2\n",
    "\n",
    "Дан примитивный калькулятор, который может выполнять следующие три операции с текущим числом x: умножить x на 2, умножить x на 3 или прибавить 1 к x. Дано положительное целое число n, найдите минимальное количество операций, необходимых для получения числа n, начиная с числа 1."
   ]
  },
  {
   "cell_type": "code",
   "execution_count": 9,
   "metadata": {},
   "outputs": [],
   "source": [
    "def privitive_calculator(n: int) -> tp.Tuple[int, tp.List[int]]:\n",
    "    ways = [0 for _ in range(n + 1)]\n",
    "    ways[0] = (0, [])\n",
    "\n",
    "    for i in range(1, n + 1):\n",
    "        possible = [(ways[i - 1][0], i - 1, 1)]\n",
    "        if i % 2 == 0: possible.append((ways[i // 2][0], i // 2, 2))\n",
    "        if i % 3 == 0: possible.append((ways[i // 3][0], i // 3, 3))\n",
    "\n",
    "        possible.sort()\n",
    "        ways[i] = (possible[0][0] + 1, ways[possible[0][1]][1] + [possible[0][2]])\n",
    "\n",
    "    temp = [0] \n",
    "    for el in ways[-1][1]:\n",
    "        if el == 1:\n",
    "            temp.append(temp[-1] + 1)\n",
    "        else:\n",
    "            temp.append(temp[-1] * el)\n",
    "\n",
    "    return (ways[-1][0] - 1, temp[1:])\n",
    "        "
   ]
  },
  {
   "cell_type": "code",
   "execution_count": 10,
   "metadata": {},
   "outputs": [
    {
     "name": "stdout",
     "output_type": "stream",
     "text": [
      "[0, 1, 2, 4, 5]\n"
     ]
    },
    {
     "data": {
      "text/plain": [
       "(3, [1, 2, 4, 5])"
      ]
     },
     "execution_count": 10,
     "metadata": {},
     "output_type": "execute_result"
    }
   ],
   "source": [
    "privitive_calculator(5)"
   ]
  },
  {
   "cell_type": "markdown",
   "metadata": {},
   "source": [
    "### Задание 6\n",
    "\n",
    "Дана последовательность, требуется найти ее наибольшую возрастающаю подпоследовательность"
   ]
  },
  {
   "cell_type": "code",
   "execution_count": 20,
   "metadata": {},
   "outputs": [],
   "source": [
    "from bisect import bisect_left as bisect\n",
    "\n",
    "def max_subsequence_len(arr: tp.List[int]) -> tp.List[int]:\n",
    "    if len(arr) <= 1: return arr\n",
    "\n",
    "    tail = [0 for _ in range(len(arr) + 1)]\n",
    "    tail_len, tail[0] = 0, arr[0]\n",
    "\n",
    "    for i in range(1, len(arr)):\n",
    "        if arr[i] > tail[tail_len]:\n",
    "            tail_len += 1\n",
    "            tail[tail_len] = arr[i]\n",
    "        else:\n",
    "            tail[bisect(tail, arr[i], 0, tail_len)] = arr[i]\n",
    "\n",
    "    return len(tail[0:tail_len + 1])"
   ]
  },
  {
   "cell_type": "code",
   "execution_count": 24,
   "metadata": {},
   "outputs": [],
   "source": [
    "def lis(arr: tp.List[int]):\n",
    "    def inner_lis(a, i):\n",
    "        t = dict()\n",
    "        if i not in t:\n",
    "            t[i] = 1\n",
    "            for j in range(i):\n",
    "                if a[j] < a[i]: t[i] = max(t[i], inner_lis(a, j) + 1)\n",
    "        return t[i]\n",
    "\n",
    "    return max(inner_lis(arr, i) for i in range(len(arr)))"
   ]
  },
  {
   "cell_type": "code",
   "execution_count": 25,
   "metadata": {},
   "outputs": [
    {
     "data": {
      "text/plain": [
       "3"
      ]
     },
     "execution_count": 25,
     "metadata": {},
     "output_type": "execute_result"
    }
   ],
   "source": [
    "lis([3, 29, 5, 5, 28, 6])"
   ]
  },
  {
   "cell_type": "code",
   "execution_count": 41,
   "metadata": {},
   "outputs": [],
   "source": [
    "def advanced_lis(arr: tp.List[int]) -> tp.List[int]:\n",
    "    tail = [0 for _ in range(len(arr))]\n",
    "    tail[0] = (1, None)\n",
    "\n",
    "    global_max_index = 0\n",
    "\n",
    "    for i in range(1, len(arr)):\n",
    "        max_index = None\n",
    "        for j in range(0, i):\n",
    "            if arr[j] < arr[i]:\n",
    "                if max_index == None or tail[max_index][0] < tail[j][0]:\n",
    "                    max_index = j\n",
    "        if max_index == None:\n",
    "            tail[i] = (1, None)\n",
    "        else:\n",
    "            tail[i] = (1 + tail[max_index][0], max_index)\n",
    "\n",
    "        if tail[i][0] > tail[global_max_index][0]:\n",
    "            global_max_index = i\n",
    "\n",
    "    res = []\n",
    "\n",
    "    print(tail)\n",
    "    print(f'start {global_max_index}')\n",
    "\n",
    "    while tail[global_max_index][1] != None:\n",
    "        res.append(arr[global_max_index])\n",
    "        global_max_index = tail[global_max_index][1]\n",
    "        print(global_max_index)\n",
    "    res.append(arr[global_max_index])\n",
    "\n",
    "    return res[::-1]"
   ]
  },
  {
   "cell_type": "code",
   "execution_count": 32,
   "metadata": {},
   "outputs": [
    {
     "name": "stdout",
     "output_type": "stream",
     "text": [
      "1\n",
      "2\n",
      "3\n",
      "4\n",
      "5\n",
      "6\n",
      "7\n",
      "8\n",
      "9\n"
     ]
    }
   ],
   "source": [
    "temp = 1\n",
    "\n",
    "while temp != 10:\n",
    "    print(temp)\n",
    "    temp += 1"
   ]
  },
  {
   "cell_type": "code",
   "execution_count": 42,
   "metadata": {},
   "outputs": [
    {
     "name": "stdout",
     "output_type": "stream",
     "text": [
      "[(1, None), (2, 0), (2, 0), (2, 0), (3, 2), (3, 2)]\n",
      "start 4\n",
      "2\n",
      "0\n"
     ]
    },
    {
     "data": {
      "text/plain": [
       "[3, 5, 28]"
      ]
     },
     "execution_count": 42,
     "metadata": {},
     "output_type": "execute_result"
    }
   ],
   "source": [
    "advanced_lis([3, 29, 5, 5, 28, 6])"
   ]
  }
 ],
 "metadata": {
  "kernelspec": {
   "display_name": "Python 3.10.6 64-bit",
   "language": "python",
   "name": "python3"
  },
  "language_info": {
   "codemirror_mode": {
    "name": "ipython",
    "version": 3
   },
   "file_extension": ".py",
   "mimetype": "text/x-python",
   "name": "python",
   "nbconvert_exporter": "python",
   "pygments_lexer": "ipython3",
   "version": "3.10.6"
  },
  "orig_nbformat": 4,
  "vscode": {
   "interpreter": {
    "hash": "916dbcbb3f70747c44a77c7bcd40155683ae19c65e1c03b4aa3499c5328201f1"
   }
  }
 },
 "nbformat": 4,
 "nbformat_minor": 2
}
